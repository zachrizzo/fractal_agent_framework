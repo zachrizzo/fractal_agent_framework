{
 "cells": [
  {
   "cell_type": "code",
   "execution_count": 2,
   "metadata": {},
   "outputs": [
    {
     "name": "stdout",
     "output_type": "stream",
     "text": [
      "Intel MKL WARNING: Support of Intel(R) Streaming SIMD Extensions 4.2 (Intel(R) SSE4.2) enabled only processors has been deprecated. Intel oneAPI Math Kernel Library 2025.0 will require Intel(R) Advanced Vector Extensions (Intel(R) AVX) instructions.\n",
      "Intel MKL WARNING: Support of Intel(R) Streaming SIMD Extensions 4.2 (Intel(R) SSE4.2) enabled only processors has been deprecated. Intel oneAPI Math Kernel Library 2025.0 will require Intel(R) Advanced Vector Extensions (Intel(R) AVX) instructions.\n"
     ]
    },
    {
     "name": "stderr",
     "output_type": "stream",
     "text": [
      "INFO:faiss.loader:Loading faiss.\n",
      "INFO:faiss.loader:Successfully loaded faiss.\n"
     ]
    }
   ],
   "source": [
    "from core.fractal_framework import FractalFramework, FractalTask\n",
    "from agents.chatbot_agent import ChatbotAgent, LLMProvider, TaskType\n",
    "from core.fractal_context import FractalContext\n",
    "from utils.vector_store import LocalVectorStore\n",
    "import asyncio\n",
    "from typing import List, Dict, Any\n",
    "from dotenv import load_dotenv\n",
    "import os"
   ]
  },
  {
   "cell_type": "code",
   "execution_count": 6,
   "metadata": {},
   "outputs": [
    {
     "ename": "TypeError",
     "evalue": "LocalVectorStore.__init__() got an unexpected keyword argument 'auto_save'",
     "output_type": "error",
     "traceback": [
      "\u001b[0;31m---------------------------------------------------------------------------\u001b[0m",
      "\u001b[0;31mTypeError\u001b[0m                                 Traceback (most recent call last)",
      "Cell \u001b[0;32mIn[6], line 13\u001b[0m\n\u001b[1;32m     10\u001b[0m framework \u001b[38;5;241m=\u001b[39m FractalFramework()\n\u001b[1;32m     12\u001b[0m \u001b[38;5;66;03m# Create vector store instance\u001b[39;00m\n\u001b[0;32m---> 13\u001b[0m vector_store \u001b[38;5;241m=\u001b[39m \u001b[43mLocalVectorStore\u001b[49m\u001b[43m(\u001b[49m\n\u001b[1;32m     14\u001b[0m \u001b[43m    \u001b[49m\u001b[43mapi_key\u001b[49m\u001b[38;5;241;43m=\u001b[39;49m\u001b[43mllm_config\u001b[49m\u001b[43m[\u001b[49m\u001b[38;5;124;43m'\u001b[39;49m\u001b[38;5;124;43mapi_key\u001b[39;49m\u001b[38;5;124;43m'\u001b[39;49m\u001b[43m]\u001b[49m\u001b[43m,\u001b[49m\u001b[43m  \u001b[49m\u001b[38;5;66;43;03m# Use the same API key\u001b[39;49;00m\n\u001b[1;32m     15\u001b[0m \u001b[43m    \u001b[49m\u001b[43mmodel_name\u001b[49m\u001b[38;5;241;43m=\u001b[39;49m\u001b[38;5;124;43m\"\u001b[39;49m\u001b[38;5;124;43mtext-embedding-3-small\u001b[39;49m\u001b[38;5;124;43m\"\u001b[39;49m\u001b[43m,\u001b[49m\n\u001b[1;32m     16\u001b[0m \u001b[43m    \u001b[49m\u001b[43mauto_save\u001b[49m\u001b[38;5;241;43m=\u001b[39;49m\u001b[38;5;28;43;01mTrue\u001b[39;49;00m\u001b[43m,\u001b[49m\n\u001b[1;32m     17\u001b[0m \u001b[43m    \u001b[49m\u001b[43msave_path\u001b[49m\u001b[38;5;241;43m=\u001b[39;49m\u001b[38;5;124;43m\"\u001b[39;49m\u001b[38;5;124;43mcode_vectors/store\u001b[39;49m\u001b[38;5;124;43m\"\u001b[39;49m\n\u001b[1;32m     18\u001b[0m \u001b[43m)\u001b[49m\n",
      "\u001b[0;31mTypeError\u001b[0m: LocalVectorStore.__init__() got an unexpected keyword argument 'auto_save'"
     ]
    }
   ],
   "source": [
    "load_dotenv(dotenv_path='.env')\n",
    "\n",
    " # Configure LLM with your API key\n",
    "llm_config = {\n",
    "    'provider': 'openai',\n",
    "    'api_key': os.getenv('OPENAI_API_KEY')\n",
    "}\n",
    "\n",
    "# Create framework\n",
    "framework = FractalFramework()\n",
    "\n",
    "# Create vector store instance\n",
    "vector_store = LocalVectorStore(\n",
    "    api_key=llm_config['api_key'],  # Use the same API key\n",
    "    model_name=\"text-embedding-3-small\",\n",
    "    auto_save=True,\n",
    "    save_path=\"code_vectors/store\"\n",
    ")"
   ]
  },
  {
   "cell_type": "code",
   "execution_count": null,
   "metadata": {},
   "outputs": [],
   "source": [
    "code_data = [\n",
    "    {\n",
    "        'id': 'file-_app.js',\n",
    "        'data': {\n",
    "            'code': '''const login = () => {\n",
    "                const [email, setEmail] = useState();\n",
    "                const [password, setPassword] = useState();\n",
    "                const handleSubmit = () => {\n",
    "                    console.log(email, password);\n",
    "                };\n",
    "                return (\n",
    "                    <div>\n",
    "                        <input type=\"text\" value={email} onChange={(e) => setEmail(e.target.value)} />\n",
    "                        <input type=\"password\" value={password} onChange={(e) => setPassword(e.target.value)} />\n",
    "                        <button onClick={handleSubmit}>Login</button>\n",
    "                    </div>\n",
    "                );\n",
    "            }''',\n",
    "            'filePath': '/path/to/file',\n",
    "            'label': '_app.js'\n",
    "        }\n",
    "    },\n",
    "    {\n",
    "        'id': 'file-_product.js',\n",
    "        'data': {\n",
    "            'code': '''class Product {\n",
    "                constructor(name, price) {\n",
    "                    this.name = name;\n",
    "                    this.price = price;\n",
    "                }\n",
    "                toString() {\n",
    "                    return `${this.name} - $${this.price}`;\n",
    "                }\n",
    "            }''',\n",
    "            'filePath': '/path/to/file',\n",
    "            'label': '_product.js'\n",
    "        }\n",
    "    },\n",
    "    {\n",
    "        'id': 'file-_order.js',\n",
    "        'data': {\n",
    "            'code': '''class Order {\n",
    "                constructor(orderId, productList) {\n",
    "                    this.orderId = orderId;\n",
    "                    this.productList = productList;\n",
    "                }\n",
    "                getTotal() {\n",
    "                    return this.productList.reduce((total, product) => total + product.price, 0);\n",
    "                }\n",
    "            }''',\n",
    "            'filePath': '/path/to/file',\n",
    "            'label': '_order.js'\n",
    "        }\n",
    "    },\n",
    "    {\n",
    "        'id': 'file-_user.js',\n",
    "        'data': {\n",
    "            'code': '''class User {\n",
    "                constructor(username, email) {\n",
    "                    this.username = username;\n",
    "                    this.email = email;\n",
    "                }\n",
    "                getDetails() {\n",
    "                    return `${this.username} (${this.email})`;\n",
    "                }\n",
    "            }''',\n",
    "            'filePath': '/path/to/file',\n",
    "            'label': '_user.js'\n",
    "        }\n",
    "    }\n",
    "]"
   ]
  },
  {
   "cell_type": "code",
   "execution_count": null,
   "metadata": {},
   "outputs": [],
   "source": [
    "for data in code_data:\n",
    "        if 'data' in data and 'code' in data['data']:\n",
    "            code = data['data']['code']\n",
    "            if code:  # Only index non-empty code\n",
    "                try:\n",
    "                    # Add to vector store with metadata\n",
    "                    metadata = {\n",
    "                        'filePath': data['data'].get('filePath', ''),\n",
    "                        'label': data['data'].get('label', ''),\n",
    "                        'id': data['id'],\n",
    "                        'code': code  # Include original code\n",
    "                    }\n",
    "                    vector_store.add_embedding(data['id'], code, metadata)\n",
    "                    print(f\"Indexed: {data['data'].get('label', 'unnamed')}\")\n",
    "                except Exception as e:\n",
    "                    print(f\"Error indexing code: {e}\")\n"
   ]
  },
  {
   "cell_type": "code",
   "execution_count": null,
   "metadata": {},
   "outputs": [],
   "source": [
    "# Since code_data is a list, we can convert it to an iterator\n",
    "stats = vector_store.bulk_index_code(iter(code_data), batch_size=2)\n",
    "\n",
    "# Print statistics\n",
    "print(\"Indexing Statistics:\", stats)"
   ]
  }
 ],
 "metadata": {
  "kernelspec": {
   "display_name": "fractal_agent",
   "language": "python",
   "name": "python3"
  },
  "language_info": {
   "codemirror_mode": {
    "name": "ipython",
    "version": 3
   },
   "file_extension": ".py",
   "mimetype": "text/x-python",
   "name": "python",
   "nbconvert_exporter": "python",
   "pygments_lexer": "ipython3",
   "version": "3.12.7"
  }
 },
 "nbformat": 4,
 "nbformat_minor": 2
}
